{
 "cells": [
  {
   "cell_type": "code",
   "execution_count": 3,
   "metadata": {},
   "outputs": [],
   "source": [
    "# This code is taken from Krish Naik Tutorial\n",
    "\n",
    "from setuptools import find_packages, setup\n",
    "from typing import List\n",
    "\n",
    "HYPHEN_E_DOT='-e .'\n",
    "\n",
    "def get_requirements(file_path:str) ->List[str]:\n",
    "  '''\n",
    "  Returns list of requirements\n",
    "  '''\n",
    "\n",
    "  requirements=[]\n",
    "  with open(file_path) as file_obj:\n",
    "     requirements=file_obj.readlines()\n",
    "     [req.replace(\"\\n\",\"\")  for req in requirements]\n",
    "\n",
    "     if HYPHEN_E_DOT in requirements:\n",
    "        print(requirements)\n",
    "        requirements.remove(HYPHEN_E_DOT)\n",
    "\n",
    "  return requirements\n"
   ]
  },
  {
   "cell_type": "code",
   "execution_count": 6,
   "metadata": {},
   "outputs": [],
   "source": [
    "r=get_requirements('requirements.txt')"
   ]
  },
  {
   "cell_type": "code",
   "execution_count": 7,
   "metadata": {},
   "outputs": [
    {
     "data": {
      "text/plain": [
       "['pandas\\n', 'numpy\\n', 'seaborn\\n', '-e .\\n']"
      ]
     },
     "execution_count": 7,
     "metadata": {},
     "output_type": "execute_result"
    }
   ],
   "source": [
    "r"
   ]
  },
  {
   "cell_type": "code",
   "execution_count": null,
   "metadata": {},
   "outputs": [],
   "source": []
  }
 ],
 "metadata": {
  "kernelspec": {
   "display_name": "Python 3",
   "language": "python",
   "name": "python3"
  },
  "language_info": {
   "codemirror_mode": {
    "name": "ipython",
    "version": 3
   },
   "file_extension": ".py",
   "mimetype": "text/x-python",
   "name": "python",
   "nbconvert_exporter": "python",
   "pygments_lexer": "ipython3",
   "version": "3.7.4"
  }
 },
 "nbformat": 4,
 "nbformat_minor": 2
}
