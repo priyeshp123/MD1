{
 "cells": [
  {
   "cell_type": "markdown",
   "id": "3f10c884",
   "metadata": {},
   "source": [
    "# Download filings from SEC website\n",
    "\n",
    "Generate a list of companies from wikipedia page on Russell 1000 companies.\n",
    "\n",
    "Use tickers to download filings for each company from SEC website."
   ]
  },
  {
   "cell_type": "code",
   "execution_count": 1,
   "id": "bd7b2403",
   "metadata": {},
   "outputs": [],
   "source": [
    "from sec_edgar_downloader import Downloader\n",
    "from bs4 import BeautifulSoup\n",
    "import numpy as np\n",
    "import pandas as pd\n",
    "import requests as req\n",
    "import time"
   ]
  },
  {
   "cell_type": "code",
   "execution_count": 2,
   "id": "807f5871",
   "metadata": {},
   "outputs": [],
   "source": [
    "url = \"https://en.wikipedia.org/wiki/Russell_1000_Index\""
   ]
  },
  {
   "cell_type": "code",
   "execution_count": 3,
   "id": "f2d7dd67",
   "metadata": {},
   "outputs": [
    {
     "name": "stdout",
     "output_type": "stream",
     "text": [
      "5\n"
     ]
    }
   ],
   "source": [
    "tables = pd.read_html(url)\n",
    "print(len(tables))"
   ]
  },
  {
   "cell_type": "code",
   "execution_count": 4,
   "id": "b5f9c7bc",
   "metadata": {},
   "outputs": [
    {
     "data": {
      "text/html": [
       "<div>\n",
       "<style scoped>\n",
       "    .dataframe tbody tr th:only-of-type {\n",
       "        vertical-align: middle;\n",
       "    }\n",
       "\n",
       "    .dataframe tbody tr th {\n",
       "        vertical-align: top;\n",
       "    }\n",
       "\n",
       "    .dataframe thead th {\n",
       "        text-align: right;\n",
       "    }\n",
       "</style>\n",
       "<table border=\"1\" class=\"dataframe\">\n",
       "  <thead>\n",
       "    <tr style=\"text-align: right;\">\n",
       "      <th></th>\n",
       "      <th>Company</th>\n",
       "      <th>Ticker</th>\n",
       "      <th>GICS Sector</th>\n",
       "      <th>GICS Sub-Industry</th>\n",
       "    </tr>\n",
       "  </thead>\n",
       "  <tbody>\n",
       "    <tr>\n",
       "      <th>0</th>\n",
       "      <td>10x Genomics</td>\n",
       "      <td>TXG</td>\n",
       "      <td>Health Care</td>\n",
       "      <td>NaN</td>\n",
       "    </tr>\n",
       "    <tr>\n",
       "      <th>1</th>\n",
       "      <td>3M</td>\n",
       "      <td>MMM</td>\n",
       "      <td>Industrials</td>\n",
       "      <td>Industrial Conglomerates</td>\n",
       "    </tr>\n",
       "    <tr>\n",
       "      <th>2</th>\n",
       "      <td>Abbott</td>\n",
       "      <td>ABT</td>\n",
       "      <td>Health Care</td>\n",
       "      <td>Health Care Equipment</td>\n",
       "    </tr>\n",
       "    <tr>\n",
       "      <th>3</th>\n",
       "      <td>AbbVie</td>\n",
       "      <td>ABBV</td>\n",
       "      <td>Health Care</td>\n",
       "      <td>Pharmaceuticals</td>\n",
       "    </tr>\n",
       "    <tr>\n",
       "      <th>4</th>\n",
       "      <td>Acadia Healthcare</td>\n",
       "      <td>ACHC</td>\n",
       "      <td>Health Care</td>\n",
       "      <td>Health Care Facilities</td>\n",
       "    </tr>\n",
       "    <tr>\n",
       "      <th>...</th>\n",
       "      <td>...</td>\n",
       "      <td>...</td>\n",
       "      <td>...</td>\n",
       "      <td>...</td>\n",
       "    </tr>\n",
       "    <tr>\n",
       "      <th>1004</th>\n",
       "      <td>Zions Bancorporation</td>\n",
       "      <td>ZION</td>\n",
       "      <td>Financials</td>\n",
       "      <td>Regional Banks</td>\n",
       "    </tr>\n",
       "    <tr>\n",
       "      <th>1005</th>\n",
       "      <td>Zoetis</td>\n",
       "      <td>ZTS</td>\n",
       "      <td>Health Care</td>\n",
       "      <td>Pharmaceuticals</td>\n",
       "    </tr>\n",
       "    <tr>\n",
       "      <th>1006</th>\n",
       "      <td>Zoom</td>\n",
       "      <td>ZM</td>\n",
       "      <td>Information Technology</td>\n",
       "      <td>Application Software</td>\n",
       "    </tr>\n",
       "    <tr>\n",
       "      <th>1007</th>\n",
       "      <td>ZoomInfo</td>\n",
       "      <td>ZI</td>\n",
       "      <td>Communication Services</td>\n",
       "      <td>NaN</td>\n",
       "    </tr>\n",
       "    <tr>\n",
       "      <th>1008</th>\n",
       "      <td>Zscaler</td>\n",
       "      <td>ZS</td>\n",
       "      <td>Information Technology</td>\n",
       "      <td>Application Software</td>\n",
       "    </tr>\n",
       "  </tbody>\n",
       "</table>\n",
       "<p>1009 rows × 4 columns</p>\n",
       "</div>"
      ],
      "text/plain": [
       "                   Company Ticker             GICS Sector  \\\n",
       "0             10x Genomics    TXG             Health Care   \n",
       "1                       3M    MMM             Industrials   \n",
       "2                   Abbott    ABT             Health Care   \n",
       "3                   AbbVie   ABBV             Health Care   \n",
       "4        Acadia Healthcare   ACHC             Health Care   \n",
       "...                    ...    ...                     ...   \n",
       "1004  Zions Bancorporation   ZION              Financials   \n",
       "1005                Zoetis    ZTS             Health Care   \n",
       "1006                  Zoom     ZM  Information Technology   \n",
       "1007              ZoomInfo     ZI  Communication Services   \n",
       "1008               Zscaler     ZS  Information Technology   \n",
       "\n",
       "             GICS Sub-Industry  \n",
       "0                          NaN  \n",
       "1     Industrial Conglomerates  \n",
       "2        Health Care Equipment  \n",
       "3              Pharmaceuticals  \n",
       "4       Health Care Facilities  \n",
       "...                        ...  \n",
       "1004            Regional Banks  \n",
       "1005           Pharmaceuticals  \n",
       "1006      Application Software  \n",
       "1007                       NaN  \n",
       "1008      Application Software  \n",
       "\n",
       "[1009 rows x 4 columns]"
      ]
     },
     "execution_count": 4,
     "metadata": {},
     "output_type": "execute_result"
    }
   ],
   "source": [
    "df = tables[2]\n",
    "df"
   ]
  },
  {
   "cell_type": "code",
   "execution_count": 5,
   "id": "7ed56143",
   "metadata": {},
   "outputs": [],
   "source": [
    "dl = Downloader(\"/mnt/data/projects/TS1/data/R1000/filings\",email_address='priyesh.patel@student.reading.ac.uk')"
   ]
  },
  {
   "cell_type": "markdown",
   "id": "c97121ae",
   "metadata": {},
   "source": [
    "Download will take some time and will fail mid-way from time to time. If and when that happens, adjust range\n",
    "in for loop and re-run following code to continue."
   ]
  },
  {
   "cell_type": "code",
   "execution_count": 7,
   "id": "615543b8",
   "metadata": {},
   "outputs": [
    {
     "name": "stdout",
     "output_type": "stream",
     "text": [
      "MMM\n",
      "ABT\n",
      "ABBV\n",
      "ACHC\n"
     ]
    }
   ],
   "source": [
    "for i in range(1,5):\n",
    "    Ticker=df.loc[i,'Ticker']\n",
    "    print(Ticker)\n",
    "    time.sleep(1)\n",
    "    dl.get(\"10-K\", Ticker, download_details=False, after=\"2010-01-01\" )"
   ]
  },
  {
   "cell_type": "code",
   "execution_count": null,
   "id": "a3586ecb",
   "metadata": {},
   "outputs": [],
   "source": [
    "Back in June, above code would place files in folder idenfied in dl but the downloaded files are now placed \n",
    "under current working directory. So code needs to be amended to move and compress files. \n"
   ]
  }
 ],
 "metadata": {
  "kernelspec": {
   "display_name": "Python 3 (ipykernel)",
   "language": "python",
   "name": "python3"
  },
  "language_info": {
   "codemirror_mode": {
    "name": "ipython",
    "version": 3
   },
   "file_extension": ".py",
   "mimetype": "text/x-python",
   "name": "python",
   "nbconvert_exporter": "python",
   "pygments_lexer": "ipython3",
   "version": "3.9.0"
  }
 },
 "nbformat": 4,
 "nbformat_minor": 5
}
